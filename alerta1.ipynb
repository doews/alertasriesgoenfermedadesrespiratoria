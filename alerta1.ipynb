{
 "cells": [
  {
   "cell_type": "markdown",
   "id": "52c92da0",
   "metadata": {},
   "source": [
    "1. Preparación del entorno"
   ]
  },
  {
   "cell_type": "code",
   "execution_count": 1,
   "id": "0e4abd55",
   "metadata": {},
   "outputs": [
    {
     "name": "stdout",
     "output_type": "stream",
     "text": [
      "Requirement already satisfied: pandas in c:\\users\\fpere\\appdata\\local\\packages\\pythonsoftwarefoundation.python.3.11_qbz5n2kfra8p0\\localcache\\local-packages\\python311\\site-packages (2.2.3)\n",
      "Requirement already satisfied: matplotlib in c:\\users\\fpere\\appdata\\local\\packages\\pythonsoftwarefoundation.python.3.11_qbz5n2kfra8p0\\localcache\\local-packages\\python311\\site-packages (3.10.1)\n",
      "Requirement already satisfied: seaborn in c:\\users\\fpere\\appdata\\local\\packages\\pythonsoftwarefoundation.python.3.11_qbz5n2kfra8p0\\localcache\\local-packages\\python311\\site-packages (0.13.2)\n",
      "Requirement already satisfied: scikit-learn in c:\\users\\fpere\\appdata\\local\\packages\\pythonsoftwarefoundation.python.3.11_qbz5n2kfra8p0\\localcache\\local-packages\\python311\\site-packages (1.6.1)\n",
      "Requirement already satisfied: numpy>=1.23.2 in c:\\users\\fpere\\appdata\\local\\packages\\pythonsoftwarefoundation.python.3.11_qbz5n2kfra8p0\\localcache\\local-packages\\python311\\site-packages (from pandas) (2.2.5)\n",
      "Requirement already satisfied: python-dateutil>=2.8.2 in c:\\users\\fpere\\appdata\\local\\packages\\pythonsoftwarefoundation.python.3.11_qbz5n2kfra8p0\\localcache\\local-packages\\python311\\site-packages (from pandas) (2.9.0.post0)\n",
      "Requirement already satisfied: pytz>=2020.1 in c:\\users\\fpere\\appdata\\local\\packages\\pythonsoftwarefoundation.python.3.11_qbz5n2kfra8p0\\localcache\\local-packages\\python311\\site-packages (from pandas) (2025.2)\n",
      "Requirement already satisfied: tzdata>=2022.7 in c:\\users\\fpere\\appdata\\local\\packages\\pythonsoftwarefoundation.python.3.11_qbz5n2kfra8p0\\localcache\\local-packages\\python311\\site-packages (from pandas) (2025.2)\n",
      "Requirement already satisfied: contourpy>=1.0.1 in c:\\users\\fpere\\appdata\\local\\packages\\pythonsoftwarefoundation.python.3.11_qbz5n2kfra8p0\\localcache\\local-packages\\python311\\site-packages (from matplotlib) (1.3.2)\n",
      "Requirement already satisfied: cycler>=0.10 in c:\\users\\fpere\\appdata\\local\\packages\\pythonsoftwarefoundation.python.3.11_qbz5n2kfra8p0\\localcache\\local-packages\\python311\\site-packages (from matplotlib) (0.12.1)\n",
      "Requirement already satisfied: fonttools>=4.22.0 in c:\\users\\fpere\\appdata\\local\\packages\\pythonsoftwarefoundation.python.3.11_qbz5n2kfra8p0\\localcache\\local-packages\\python311\\site-packages (from matplotlib) (4.57.0)\n",
      "Requirement already satisfied: kiwisolver>=1.3.1 in c:\\users\\fpere\\appdata\\local\\packages\\pythonsoftwarefoundation.python.3.11_qbz5n2kfra8p0\\localcache\\local-packages\\python311\\site-packages (from matplotlib) (1.4.8)\n",
      "Requirement already satisfied: packaging>=20.0 in c:\\users\\fpere\\appdata\\local\\packages\\pythonsoftwarefoundation.python.3.11_qbz5n2kfra8p0\\localcache\\local-packages\\python311\\site-packages (from matplotlib) (25.0)\n",
      "Requirement already satisfied: pillow>=8 in c:\\users\\fpere\\appdata\\local\\packages\\pythonsoftwarefoundation.python.3.11_qbz5n2kfra8p0\\localcache\\local-packages\\python311\\site-packages (from matplotlib) (11.2.1)\n",
      "Requirement already satisfied: pyparsing>=2.3.1 in c:\\users\\fpere\\appdata\\local\\packages\\pythonsoftwarefoundation.python.3.11_qbz5n2kfra8p0\\localcache\\local-packages\\python311\\site-packages (from matplotlib) (3.2.3)\n",
      "Requirement already satisfied: scipy>=1.6.0 in c:\\users\\fpere\\appdata\\local\\packages\\pythonsoftwarefoundation.python.3.11_qbz5n2kfra8p0\\localcache\\local-packages\\python311\\site-packages (from scikit-learn) (1.15.3)\n",
      "Requirement already satisfied: joblib>=1.2.0 in c:\\users\\fpere\\appdata\\local\\packages\\pythonsoftwarefoundation.python.3.11_qbz5n2kfra8p0\\localcache\\local-packages\\python311\\site-packages (from scikit-learn) (1.5.1)\n",
      "Requirement already satisfied: threadpoolctl>=3.1.0 in c:\\users\\fpere\\appdata\\local\\packages\\pythonsoftwarefoundation.python.3.11_qbz5n2kfra8p0\\localcache\\local-packages\\python311\\site-packages (from scikit-learn) (3.6.0)\n",
      "Requirement already satisfied: six>=1.5 in c:\\users\\fpere\\appdata\\local\\packages\\pythonsoftwarefoundation.python.3.11_qbz5n2kfra8p0\\localcache\\local-packages\\python311\\site-packages (from python-dateutil>=2.8.2->pandas) (1.17.0)\n"
     ]
    },
    {
     "name": "stderr",
     "output_type": "stream",
     "text": [
      "\n",
      "[notice] A new release of pip is available: 24.0 -> 25.1.1\n",
      "[notice] To update, run: C:\\Users\\fpere\\AppData\\Local\\Microsoft\\WindowsApps\\PythonSoftwareFoundation.Python.3.11_qbz5n2kfra8p0\\python.exe -m pip install --upgrade pip\n"
     ]
    }
   ],
   "source": [
    "!pip install pandas matplotlib seaborn scikit-learn"
   ]
  },
  {
   "cell_type": "code",
   "execution_count": 2,
   "id": "a64ac358",
   "metadata": {},
   "outputs": [
    {
     "name": "stdout",
     "output_type": "stream",
     "text": [
      "Requirement already satisfied: requests in c:\\users\\fpere\\appdata\\local\\packages\\pythonsoftwarefoundation.python.3.11_qbz5n2kfra8p0\\localcache\\local-packages\\python311\\site-packages (2.32.3)\n",
      "Requirement already satisfied: charset-normalizer<4,>=2 in c:\\users\\fpere\\appdata\\local\\packages\\pythonsoftwarefoundation.python.3.11_qbz5n2kfra8p0\\localcache\\local-packages\\python311\\site-packages (from requests) (3.4.2)\n",
      "Requirement already satisfied: idna<4,>=2.5 in c:\\users\\fpere\\appdata\\local\\packages\\pythonsoftwarefoundation.python.3.11_qbz5n2kfra8p0\\localcache\\local-packages\\python311\\site-packages (from requests) (3.10)\n",
      "Requirement already satisfied: urllib3<3,>=1.21.1 in c:\\users\\fpere\\appdata\\local\\packages\\pythonsoftwarefoundation.python.3.11_qbz5n2kfra8p0\\localcache\\local-packages\\python311\\site-packages (from requests) (2.4.0)\n",
      "Requirement already satisfied: certifi>=2017.4.17 in c:\\users\\fpere\\appdata\\local\\packages\\pythonsoftwarefoundation.python.3.11_qbz5n2kfra8p0\\localcache\\local-packages\\python311\\site-packages (from requests) (2025.4.26)\n"
     ]
    },
    {
     "name": "stderr",
     "output_type": "stream",
     "text": [
      "\n",
      "[notice] A new release of pip is available: 24.0 -> 25.1.1\n",
      "[notice] To update, run: C:\\Users\\fpere\\AppData\\Local\\Microsoft\\WindowsApps\\PythonSoftwareFoundation.Python.3.11_qbz5n2kfra8p0\\python.exe -m pip install --upgrade pip\n"
     ]
    }
   ],
   "source": [
    "!pip install requests"
   ]
  },
  {
   "cell_type": "markdown",
   "id": "04405911",
   "metadata": {},
   "source": [
    "1.1 importa las bibliotecas principales:"
   ]
  },
  {
   "cell_type": "code",
   "execution_count": 3,
   "id": "ec726c58",
   "metadata": {},
   "outputs": [],
   "source": [
    "import pandas as pd\n",
    "import matplotlib.pyplot as plt\n",
    "import seaborn as sns\n",
    "from sklearn.preprocessing import StandardScaler\n",
    "from sklearn.model_selection import train_test_split\n",
    "from sklearn.neural_network import MLPClassifier\n",
    "from sklearn.metrics import classification_report, confusion_matrix"
   ]
  },
  {
   "cell_type": "markdown",
   "id": "6a08428c",
   "metadata": {},
   "source": [
    " 2. Recolección y carga de datos"
   ]
  },
  {
   "cell_type": "code",
   "execution_count": 4,
   "id": "82563f2b",
   "metadata": {},
   "outputs": [],
   "source": [
    "import pandas as pd\n",
    "\n",
    "# URLs crudas de los archivos\n",
    "url_2020 = \"https://raw.githubusercontent.com/doews/alertasriesgoenfermedadesrespiratoria/main/2020_US_Region_Mobility_Report.csv\"\n",
    "url_2021 = \"https://raw.githubusercontent.com/doews/alertasriesgoenfermedadesrespiratoria/main/2021_US_Region_Mobility_Report.csv\"\n",
    "url_2022 = \"https://raw.githubusercontent.com/doews/alertasriesgoenfermedadesrespiratoria/main/2022_US_Region_Mobility_Report.csv\"\n",
    "\n",
    "# Leer los CSV directamente desde GitHub\n",
    "report_2020 = pd.read_csv(url_2020)\n",
    "report_2021 = pd.read_csv(url_2021)\n",
    "report_2022 = pd.read_csv(url_2022)\n"
   ]
  },
  {
   "cell_type": "code",
   "execution_count": 5,
   "id": "05c3749f",
   "metadata": {},
   "outputs": [
    {
     "data": {
      "text/html": [
       "<div>\n",
       "<style scoped>\n",
       "    .dataframe tbody tr th:only-of-type {\n",
       "        vertical-align: middle;\n",
       "    }\n",
       "\n",
       "    .dataframe tbody tr th {\n",
       "        vertical-align: top;\n",
       "    }\n",
       "\n",
       "    .dataframe thead th {\n",
       "        text-align: right;\n",
       "    }\n",
       "</style>\n",
       "<table border=\"1\" class=\"dataframe\">\n",
       "  <thead>\n",
       "    <tr style=\"text-align: right;\">\n",
       "      <th></th>\n",
       "      <th>country_region_code</th>\n",
       "      <th>country_region</th>\n",
       "      <th>sub_region_1</th>\n",
       "      <th>sub_region_2</th>\n",
       "      <th>metro_area</th>\n",
       "      <th>iso_3166_2_code</th>\n",
       "      <th>census_fips_code</th>\n",
       "      <th>place_id</th>\n",
       "      <th>date</th>\n",
       "      <th>retail_and_recreation_percent_change_from_baseline</th>\n",
       "      <th>grocery_and_pharmacy_percent_change_from_baseline</th>\n",
       "      <th>parks_percent_change_from_baseline</th>\n",
       "      <th>transit_stations_percent_change_from_baseline</th>\n",
       "      <th>workplaces_percent_change_from_baseline</th>\n",
       "      <th>residential_percent_change_from_baseline</th>\n",
       "    </tr>\n",
       "  </thead>\n",
       "  <tbody>\n",
       "    <tr>\n",
       "      <th>0</th>\n",
       "      <td>US</td>\n",
       "      <td>United States</td>\n",
       "      <td>NaN</td>\n",
       "      <td>NaN</td>\n",
       "      <td>NaN</td>\n",
       "      <td>NaN</td>\n",
       "      <td>NaN</td>\n",
       "      <td>ChIJCzYy5IS16lQRQrfeQ5K5Oxw</td>\n",
       "      <td>2020-02-15</td>\n",
       "      <td>6.0</td>\n",
       "      <td>2.0</td>\n",
       "      <td>15.0</td>\n",
       "      <td>3.0</td>\n",
       "      <td>2.0</td>\n",
       "      <td>-1.0</td>\n",
       "    </tr>\n",
       "    <tr>\n",
       "      <th>1</th>\n",
       "      <td>US</td>\n",
       "      <td>United States</td>\n",
       "      <td>NaN</td>\n",
       "      <td>NaN</td>\n",
       "      <td>NaN</td>\n",
       "      <td>NaN</td>\n",
       "      <td>NaN</td>\n",
       "      <td>ChIJCzYy5IS16lQRQrfeQ5K5Oxw</td>\n",
       "      <td>2020-02-16</td>\n",
       "      <td>7.0</td>\n",
       "      <td>1.0</td>\n",
       "      <td>16.0</td>\n",
       "      <td>2.0</td>\n",
       "      <td>0.0</td>\n",
       "      <td>-1.0</td>\n",
       "    </tr>\n",
       "    <tr>\n",
       "      <th>2</th>\n",
       "      <td>US</td>\n",
       "      <td>United States</td>\n",
       "      <td>NaN</td>\n",
       "      <td>NaN</td>\n",
       "      <td>NaN</td>\n",
       "      <td>NaN</td>\n",
       "      <td>NaN</td>\n",
       "      <td>ChIJCzYy5IS16lQRQrfeQ5K5Oxw</td>\n",
       "      <td>2020-02-17</td>\n",
       "      <td>6.0</td>\n",
       "      <td>0.0</td>\n",
       "      <td>28.0</td>\n",
       "      <td>-9.0</td>\n",
       "      <td>-24.0</td>\n",
       "      <td>5.0</td>\n",
       "    </tr>\n",
       "    <tr>\n",
       "      <th>3</th>\n",
       "      <td>US</td>\n",
       "      <td>United States</td>\n",
       "      <td>NaN</td>\n",
       "      <td>NaN</td>\n",
       "      <td>NaN</td>\n",
       "      <td>NaN</td>\n",
       "      <td>NaN</td>\n",
       "      <td>ChIJCzYy5IS16lQRQrfeQ5K5Oxw</td>\n",
       "      <td>2020-02-18</td>\n",
       "      <td>0.0</td>\n",
       "      <td>-1.0</td>\n",
       "      <td>6.0</td>\n",
       "      <td>1.0</td>\n",
       "      <td>0.0</td>\n",
       "      <td>1.0</td>\n",
       "    </tr>\n",
       "    <tr>\n",
       "      <th>4</th>\n",
       "      <td>US</td>\n",
       "      <td>United States</td>\n",
       "      <td>NaN</td>\n",
       "      <td>NaN</td>\n",
       "      <td>NaN</td>\n",
       "      <td>NaN</td>\n",
       "      <td>NaN</td>\n",
       "      <td>ChIJCzYy5IS16lQRQrfeQ5K5Oxw</td>\n",
       "      <td>2020-02-19</td>\n",
       "      <td>2.0</td>\n",
       "      <td>0.0</td>\n",
       "      <td>8.0</td>\n",
       "      <td>1.0</td>\n",
       "      <td>1.0</td>\n",
       "      <td>0.0</td>\n",
       "    </tr>\n",
       "  </tbody>\n",
       "</table>\n",
       "</div>"
      ],
      "text/plain": [
       "  country_region_code country_region sub_region_1 sub_region_2  metro_area  \\\n",
       "0                  US  United States          NaN          NaN         NaN   \n",
       "1                  US  United States          NaN          NaN         NaN   \n",
       "2                  US  United States          NaN          NaN         NaN   \n",
       "3                  US  United States          NaN          NaN         NaN   \n",
       "4                  US  United States          NaN          NaN         NaN   \n",
       "\n",
       "  iso_3166_2_code  census_fips_code                     place_id        date  \\\n",
       "0             NaN               NaN  ChIJCzYy5IS16lQRQrfeQ5K5Oxw  2020-02-15   \n",
       "1             NaN               NaN  ChIJCzYy5IS16lQRQrfeQ5K5Oxw  2020-02-16   \n",
       "2             NaN               NaN  ChIJCzYy5IS16lQRQrfeQ5K5Oxw  2020-02-17   \n",
       "3             NaN               NaN  ChIJCzYy5IS16lQRQrfeQ5K5Oxw  2020-02-18   \n",
       "4             NaN               NaN  ChIJCzYy5IS16lQRQrfeQ5K5Oxw  2020-02-19   \n",
       "\n",
       "   retail_and_recreation_percent_change_from_baseline  \\\n",
       "0                                                6.0    \n",
       "1                                                7.0    \n",
       "2                                                6.0    \n",
       "3                                                0.0    \n",
       "4                                                2.0    \n",
       "\n",
       "   grocery_and_pharmacy_percent_change_from_baseline  \\\n",
       "0                                                2.0   \n",
       "1                                                1.0   \n",
       "2                                                0.0   \n",
       "3                                               -1.0   \n",
       "4                                                0.0   \n",
       "\n",
       "   parks_percent_change_from_baseline  \\\n",
       "0                                15.0   \n",
       "1                                16.0   \n",
       "2                                28.0   \n",
       "3                                 6.0   \n",
       "4                                 8.0   \n",
       "\n",
       "   transit_stations_percent_change_from_baseline  \\\n",
       "0                                            3.0   \n",
       "1                                            2.0   \n",
       "2                                           -9.0   \n",
       "3                                            1.0   \n",
       "4                                            1.0   \n",
       "\n",
       "   workplaces_percent_change_from_baseline  \\\n",
       "0                                      2.0   \n",
       "1                                      0.0   \n",
       "2                                    -24.0   \n",
       "3                                      0.0   \n",
       "4                                      1.0   \n",
       "\n",
       "   residential_percent_change_from_baseline  \n",
       "0                                      -1.0  \n",
       "1                                      -1.0  \n",
       "2                                       5.0  \n",
       "3                                       1.0  \n",
       "4                                       0.0  "
      ]
     },
     "execution_count": 5,
     "metadata": {},
     "output_type": "execute_result"
    }
   ],
   "source": [
    "# Concatenar en un solo DataFrame\n",
    "df_mob = pd.concat([report_2020, report_2021, report_2022], ignore_index=True)\n",
    "df_virus = pd.read_csv(\"https://data.cdc.gov/api/views/x9gk-5huc/rows.csv?accessType=DOWNLOAD\")\n",
    "\n",
    "# Limpiar las columnas\n",
    "df_mob.columns = df_mob.columns.str.strip().str.lower()\n",
    "df_virus.columns = df_virus.columns.str.strip().str.lower()\n",
    "\n",
    "# Mostrar el resultado\n",
    "df_mob.head(5)"
   ]
  },
  {
   "cell_type": "code",
   "execution_count": 6,
   "id": "de697e10",
   "metadata": {},
   "outputs": [
    {
     "data": {
      "text/html": [
       "<div>\n",
       "<style scoped>\n",
       "    .dataframe tbody tr th:only-of-type {\n",
       "        vertical-align: middle;\n",
       "    }\n",
       "\n",
       "    .dataframe tbody tr th {\n",
       "        vertical-align: top;\n",
       "    }\n",
       "\n",
       "    .dataframe thead th {\n",
       "        text-align: right;\n",
       "    }\n",
       "</style>\n",
       "<table border=\"1\" class=\"dataframe\">\n",
       "  <thead>\n",
       "    <tr style=\"text-align: right;\">\n",
       "      <th></th>\n",
       "      <th>reporting area</th>\n",
       "      <th>current mmwr year</th>\n",
       "      <th>mmwr week</th>\n",
       "      <th>label</th>\n",
       "      <th>current week</th>\n",
       "      <th>current week, flag</th>\n",
       "      <th>previous 52 week max</th>\n",
       "      <th>previous 52 weeks max, flag</th>\n",
       "      <th>cumulative ytd current mmwr year</th>\n",
       "      <th>cumulative ytd current mmwr year, flag</th>\n",
       "      <th>cumulative ytd previous mmwr year</th>\n",
       "      <th>cumulative ytd previous mmwr year, flag</th>\n",
       "      <th>location1</th>\n",
       "      <th>location2</th>\n",
       "      <th>sort_order</th>\n",
       "      <th>geocode</th>\n",
       "    </tr>\n",
       "  </thead>\n",
       "  <tbody>\n",
       "    <tr>\n",
       "      <th>0</th>\n",
       "      <td>US RESIDENTS</td>\n",
       "      <td>2022</td>\n",
       "      <td>10</td>\n",
       "      <td>Anthrax</td>\n",
       "      <td>NaN</td>\n",
       "      <td>-</td>\n",
       "      <td>0.0</td>\n",
       "      <td>-</td>\n",
       "      <td>NaN</td>\n",
       "      <td>-</td>\n",
       "      <td>NaN</td>\n",
       "      <td>-</td>\n",
       "      <td>NaN</td>\n",
       "      <td>US RESIDENTS</td>\n",
       "      <td>20221000001</td>\n",
       "      <td>NaN</td>\n",
       "    </tr>\n",
       "    <tr>\n",
       "      <th>1</th>\n",
       "      <td>NEW ENGLAND</td>\n",
       "      <td>2022</td>\n",
       "      <td>10</td>\n",
       "      <td>Anthrax</td>\n",
       "      <td>NaN</td>\n",
       "      <td>-</td>\n",
       "      <td>0.0</td>\n",
       "      <td>-</td>\n",
       "      <td>NaN</td>\n",
       "      <td>-</td>\n",
       "      <td>NaN</td>\n",
       "      <td>-</td>\n",
       "      <td>NaN</td>\n",
       "      <td>NEW ENGLAND</td>\n",
       "      <td>20221000002</td>\n",
       "      <td>NaN</td>\n",
       "    </tr>\n",
       "    <tr>\n",
       "      <th>2</th>\n",
       "      <td>CONNECTICUT</td>\n",
       "      <td>2022</td>\n",
       "      <td>10</td>\n",
       "      <td>Anthrax</td>\n",
       "      <td>NaN</td>\n",
       "      <td>-</td>\n",
       "      <td>0.0</td>\n",
       "      <td>-</td>\n",
       "      <td>NaN</td>\n",
       "      <td>-</td>\n",
       "      <td>NaN</td>\n",
       "      <td>-</td>\n",
       "      <td>CONNECTICUT</td>\n",
       "      <td>NaN</td>\n",
       "      <td>20221000003</td>\n",
       "      <td>POINT (-72.738288 41.575155)</td>\n",
       "    </tr>\n",
       "    <tr>\n",
       "      <th>3</th>\n",
       "      <td>MAINE</td>\n",
       "      <td>2022</td>\n",
       "      <td>10</td>\n",
       "      <td>Anthrax</td>\n",
       "      <td>NaN</td>\n",
       "      <td>-</td>\n",
       "      <td>0.0</td>\n",
       "      <td>-</td>\n",
       "      <td>NaN</td>\n",
       "      <td>-</td>\n",
       "      <td>NaN</td>\n",
       "      <td>-</td>\n",
       "      <td>MAINE</td>\n",
       "      <td>NaN</td>\n",
       "      <td>20221000004</td>\n",
       "      <td>POINT (-69.06137 45.117911)</td>\n",
       "    </tr>\n",
       "    <tr>\n",
       "      <th>4</th>\n",
       "      <td>MASSACHUSETTS</td>\n",
       "      <td>2022</td>\n",
       "      <td>10</td>\n",
       "      <td>Anthrax</td>\n",
       "      <td>NaN</td>\n",
       "      <td>-</td>\n",
       "      <td>0.0</td>\n",
       "      <td>-</td>\n",
       "      <td>NaN</td>\n",
       "      <td>-</td>\n",
       "      <td>NaN</td>\n",
       "      <td>-</td>\n",
       "      <td>MASSACHUSETTS</td>\n",
       "      <td>NaN</td>\n",
       "      <td>20221000005</td>\n",
       "      <td>POINT (-71.481104 42.151077)</td>\n",
       "    </tr>\n",
       "  </tbody>\n",
       "</table>\n",
       "</div>"
      ],
      "text/plain": [
       "  reporting area  current mmwr year  mmwr week    label  current week  \\\n",
       "0   US RESIDENTS               2022         10  Anthrax           NaN   \n",
       "1    NEW ENGLAND               2022         10  Anthrax           NaN   \n",
       "2    CONNECTICUT               2022         10  Anthrax           NaN   \n",
       "3          MAINE               2022         10  Anthrax           NaN   \n",
       "4  MASSACHUSETTS               2022         10  Anthrax           NaN   \n",
       "\n",
       "  current week, flag  previous 52 week max previous 52 weeks max, flag  \\\n",
       "0                  -                   0.0                           -   \n",
       "1                  -                   0.0                           -   \n",
       "2                  -                   0.0                           -   \n",
       "3                  -                   0.0                           -   \n",
       "4                  -                   0.0                           -   \n",
       "\n",
       "   cumulative ytd current mmwr year cumulative ytd current mmwr year, flag  \\\n",
       "0                               NaN                                      -   \n",
       "1                               NaN                                      -   \n",
       "2                               NaN                                      -   \n",
       "3                               NaN                                      -   \n",
       "4                               NaN                                      -   \n",
       "\n",
       "   cumulative ytd previous mmwr year cumulative ytd previous mmwr year, flag  \\\n",
       "0                                NaN                                       -   \n",
       "1                                NaN                                       -   \n",
       "2                                NaN                                       -   \n",
       "3                                NaN                                       -   \n",
       "4                                NaN                                       -   \n",
       "\n",
       "       location1     location2   sort_order                       geocode  \n",
       "0            NaN  US RESIDENTS  20221000001                           NaN  \n",
       "1            NaN   NEW ENGLAND  20221000002                           NaN  \n",
       "2    CONNECTICUT           NaN  20221000003  POINT (-72.738288 41.575155)  \n",
       "3          MAINE           NaN  20221000004   POINT (-69.06137 45.117911)  \n",
       "4  MASSACHUSETTS           NaN  20221000005  POINT (-71.481104 42.151077)  "
      ]
     },
     "execution_count": 6,
     "metadata": {},
     "output_type": "execute_result"
    }
   ],
   "source": [
    "df_virus.head()"
   ]
  },
  {
   "cell_type": "markdown",
   "id": "46f6c48c",
   "metadata": {},
   "source": [
    "3. Procesamiento y unificación"
   ]
  },
  {
   "cell_type": "code",
   "execution_count": 7,
   "id": "ecfd6fa0",
   "metadata": {},
   "outputs": [],
   "source": [
    "df_mob['date'] = pd.to_datetime(df_mob['date'])\n",
    "df_mob[\"week\"]= df_mob['date'].dt.to_period('W').apply(lambda x: x.start_time)"
   ]
  },
  {
   "cell_type": "markdown",
   "id": "55dc8de8",
   "metadata": {},
   "source": [
    "4. Generación de variable de riesgo"
   ]
  },
  {
   "cell_type": "code",
   "execution_count": 8,
   "id": "1076f837",
   "metadata": {},
   "outputs": [
    {
     "name": "stdout",
     "output_type": "stream",
     "text": [
      "Index(['country_region_code', 'country_region', 'sub_region_1', 'sub_region_2',\n",
      "       'metro_area', 'iso_3166_2_code', 'census_fips_code', 'place_id', 'date',\n",
      "       'retail_and_recreation_percent_change_from_baseline',\n",
      "       'grocery_and_pharmacy_percent_change_from_baseline',\n",
      "       'parks_percent_change_from_baseline',\n",
      "       'transit_stations_percent_change_from_baseline',\n",
      "       'workplaces_percent_change_from_baseline',\n",
      "       'residential_percent_change_from_baseline', 'week'],\n",
      "      dtype='object')\n",
      "Index(['reporting area', 'current mmwr year', 'mmwr week', 'label',\n",
      "       'current week', 'current week, flag', 'previous 52 week max',\n",
      "       'previous 52 weeks max, flag', 'cumulative ytd current mmwr year',\n",
      "       'cumulative ytd current mmwr year, flag',\n",
      "       'cumulative ytd previous mmwr year',\n",
      "       'cumulative ytd previous mmwr year, flag', 'location1', 'location2',\n",
      "       'sort_order', 'geocode'],\n",
      "      dtype='object')\n"
     ]
    }
   ],
   "source": [
    "#print(df_mob.head(1))\n",
    "#print(df_virus.head(1))\n",
    "print(df_mob.columns)\n",
    "print(df_virus.columns)"
   ]
  },
  {
   "cell_type": "markdown",
   "id": "d9159a9f",
   "metadata": {},
   "source": [
    "Integra los dos DataFrames usando la columna semana (o week / mmwr week) como clave común"
   ]
  },
  {
   "cell_type": "code",
   "execution_count": 9,
   "id": "0d597ffa",
   "metadata": {},
   "outputs": [
    {
     "name": "stdout",
     "output_type": "stream",
     "text": [
      "Empty DataFrame\n",
      "Columns: [country_region_code, country_region, sub_region_1, sub_region_2, metro_area, iso_3166_2_code, census_fips_code, place_id, date, retail_and_recreation_percent_change_from_baseline, grocery_and_pharmacy_percent_change_from_baseline, parks_percent_change_from_baseline, transit_stations_percent_change_from_baseline, workplaces_percent_change_from_baseline, residential_percent_change_from_baseline, week, reporting area, current mmwr year, label, current week, current week, flag, previous 52 week max, previous 52 weeks max, flag, cumulative ytd current mmwr year, cumulative ytd current mmwr year, flag, cumulative ytd previous mmwr year, cumulative ytd previous mmwr year, flag, location1, location2, sort_order, geocode]\n",
      "Index: []\n",
      "\n",
      "[0 rows x 31 columns]\n",
      "Index(['country_region_code', 'country_region', 'sub_region_1', 'sub_region_2',\n",
      "       'metro_area', 'iso_3166_2_code', 'census_fips_code', 'place_id', 'date',\n",
      "       'retail_and_recreation_percent_change_from_baseline',\n",
      "       'grocery_and_pharmacy_percent_change_from_baseline',\n",
      "       'parks_percent_change_from_baseline',\n",
      "       'transit_stations_percent_change_from_baseline',\n",
      "       'workplaces_percent_change_from_baseline',\n",
      "       'residential_percent_change_from_baseline', 'week', 'reporting area',\n",
      "       'current mmwr year', 'label', 'current week', 'current week, flag',\n",
      "       'previous 52 week max', 'previous 52 weeks max, flag',\n",
      "       'cumulative ytd current mmwr year',\n",
      "       'cumulative ytd current mmwr year, flag',\n",
      "       'cumulative ytd previous mmwr year',\n",
      "       'cumulative ytd previous mmwr year, flag', 'location1', 'location2',\n",
      "       'sort_order', 'geocode'],\n",
      "      dtype='object')\n"
     ]
    }
   ],
   "source": [
    "# Cambiar el nombre de la columna en df_virus para que coincida con df_mob\n",
    "df_virus = df_virus.rename(columns={'mmwr week': 'week'})\n",
    "\n",
    "# Asegurar que 'week' en ambos DataFrames sea del mismo tipo (ej. int)\n",
    "df_virus['week'] = df_virus['week'].astype(int)\n",
    "df_mob['week'] = df_mob['week'].astype(int)\n",
    "\n",
    "# Hacer el merge\n",
    "df_final = pd.merge(df_mob, df_virus, on='week', how='inner')\n",
    "\n",
    "# Mostrar el resultado\n",
    "print(df_final.head())\n",
    "print(df_final.columns)\n"
   ]
  },
  {
   "cell_type": "markdown",
   "id": "d8cbc517",
   "metadata": {},
   "source": [
    "Descripción básica del DataFrame"
   ]
  },
  {
   "cell_type": "code",
   "execution_count": 10,
   "id": "65518f67",
   "metadata": {},
   "outputs": [
    {
     "name": "stdout",
     "output_type": "stream",
     "text": [
      "<class 'pandas.core.frame.DataFrame'>\n",
      "RangeIndex: 0 entries\n",
      "Data columns (total 31 columns):\n",
      " #   Column                                              Non-Null Count  Dtype         \n",
      "---  ------                                              --------------  -----         \n",
      " 0   country_region_code                                 0 non-null      object        \n",
      " 1   country_region                                      0 non-null      object        \n",
      " 2   sub_region_1                                        0 non-null      object        \n",
      " 3   sub_region_2                                        0 non-null      object        \n",
      " 4   metro_area                                          0 non-null      float64       \n",
      " 5   iso_3166_2_code                                     0 non-null      object        \n",
      " 6   census_fips_code                                    0 non-null      float64       \n",
      " 7   place_id                                            0 non-null      object        \n",
      " 8   date                                                0 non-null      datetime64[ns]\n",
      " 9   retail_and_recreation_percent_change_from_baseline  0 non-null      float64       \n",
      " 10  grocery_and_pharmacy_percent_change_from_baseline   0 non-null      float64       \n",
      " 11  parks_percent_change_from_baseline                  0 non-null      float64       \n",
      " 12  transit_stations_percent_change_from_baseline       0 non-null      float64       \n",
      " 13  workplaces_percent_change_from_baseline             0 non-null      float64       \n",
      " 14  residential_percent_change_from_baseline            0 non-null      float64       \n",
      " 15  week                                                0 non-null      int64         \n",
      " 16  reporting area                                      0 non-null      object        \n",
      " 17  current mmwr year                                   0 non-null      int64         \n",
      " 18  label                                               0 non-null      object        \n",
      " 19  current week                                        0 non-null      float64       \n",
      " 20  current week, flag                                  0 non-null      object        \n",
      " 21  previous 52 week max                                0 non-null      float64       \n",
      " 22  previous 52 weeks max, flag                         0 non-null      object        \n",
      " 23  cumulative ytd current mmwr year                    0 non-null      float64       \n",
      " 24  cumulative ytd current mmwr year, flag              0 non-null      object        \n",
      " 25  cumulative ytd previous mmwr year                   0 non-null      float64       \n",
      " 26  cumulative ytd previous mmwr year, flag             0 non-null      object        \n",
      " 27  location1                                           0 non-null      object        \n",
      " 28  location2                                           0 non-null      object        \n",
      " 29  sort_order                                          0 non-null      int64         \n",
      " 30  geocode                                             0 non-null      object        \n",
      "dtypes: datetime64[ns](1), float64(12), int64(3), object(15)\n",
      "memory usage: 132.0+ bytes\n",
      "None\n",
      "       metro_area  census_fips_code date  \\\n",
      "count         0.0               0.0    0   \n",
      "mean          NaN               NaN  NaT   \n",
      "min           NaN               NaN  NaT   \n",
      "25%           NaN               NaN  NaT   \n",
      "50%           NaN               NaN  NaT   \n",
      "75%           NaN               NaN  NaT   \n",
      "max           NaN               NaN  NaT   \n",
      "std           NaN               NaN  NaN   \n",
      "\n",
      "       retail_and_recreation_percent_change_from_baseline  \\\n",
      "count                                                0.0    \n",
      "mean                                                 NaN    \n",
      "min                                                  NaN    \n",
      "25%                                                  NaN    \n",
      "50%                                                  NaN    \n",
      "75%                                                  NaN    \n",
      "max                                                  NaN    \n",
      "std                                                  NaN    \n",
      "\n",
      "       grocery_and_pharmacy_percent_change_from_baseline  \\\n",
      "count                                                0.0   \n",
      "mean                                                 NaN   \n",
      "min                                                  NaN   \n",
      "25%                                                  NaN   \n",
      "50%                                                  NaN   \n",
      "75%                                                  NaN   \n",
      "max                                                  NaN   \n",
      "std                                                  NaN   \n",
      "\n",
      "       parks_percent_change_from_baseline  \\\n",
      "count                                 0.0   \n",
      "mean                                  NaN   \n",
      "min                                   NaN   \n",
      "25%                                   NaN   \n",
      "50%                                   NaN   \n",
      "75%                                   NaN   \n",
      "max                                   NaN   \n",
      "std                                   NaN   \n",
      "\n",
      "       transit_stations_percent_change_from_baseline  \\\n",
      "count                                            0.0   \n",
      "mean                                             NaN   \n",
      "min                                              NaN   \n",
      "25%                                              NaN   \n",
      "50%                                              NaN   \n",
      "75%                                              NaN   \n",
      "max                                              NaN   \n",
      "std                                              NaN   \n",
      "\n",
      "       workplaces_percent_change_from_baseline  \\\n",
      "count                                      0.0   \n",
      "mean                                       NaN   \n",
      "min                                        NaN   \n",
      "25%                                        NaN   \n",
      "50%                                        NaN   \n",
      "75%                                        NaN   \n",
      "max                                        NaN   \n",
      "std                                        NaN   \n",
      "\n",
      "       residential_percent_change_from_baseline  week  current mmwr year  \\\n",
      "count                                       0.0   0.0                0.0   \n",
      "mean                                        NaN   NaN                NaN   \n",
      "min                                         NaN   NaN                NaN   \n",
      "25%                                         NaN   NaN                NaN   \n",
      "50%                                         NaN   NaN                NaN   \n",
      "75%                                         NaN   NaN                NaN   \n",
      "max                                         NaN   NaN                NaN   \n",
      "std                                         NaN   NaN                NaN   \n",
      "\n",
      "       current week  previous 52 week max  cumulative ytd current mmwr year  \\\n",
      "count           0.0                   0.0                               0.0   \n",
      "mean            NaN                   NaN                               NaN   \n",
      "min             NaN                   NaN                               NaN   \n",
      "25%             NaN                   NaN                               NaN   \n",
      "50%             NaN                   NaN                               NaN   \n",
      "75%             NaN                   NaN                               NaN   \n",
      "max             NaN                   NaN                               NaN   \n",
      "std             NaN                   NaN                               NaN   \n",
      "\n",
      "       cumulative ytd previous mmwr year  sort_order  \n",
      "count                                0.0         0.0  \n",
      "mean                                 NaN         NaN  \n",
      "min                                  NaN         NaN  \n",
      "25%                                  NaN         NaN  \n",
      "50%                                  NaN         NaN  \n",
      "75%                                  NaN         NaN  \n",
      "max                                  NaN         NaN  \n",
      "std                                  NaN         NaN  \n"
     ]
    }
   ],
   "source": [
    "print(df_final.info())\n",
    "\n",
    "print(df_final.describe())"
   ]
  },
  {
   "cell_type": "markdown",
   "id": "85b724f0",
   "metadata": {},
   "source": [
    "Revisar algunas columnas clave"
   ]
  },
  {
   "cell_type": "code",
   "execution_count": 11,
   "id": "bea1fb10",
   "metadata": {},
   "outputs": [
    {
     "name": "stdout",
     "output_type": "stream",
     "text": [
      "Index(['country_region_code', 'country_region', 'sub_region_1', 'sub_region_2',\n",
      "       'metro_area', 'iso_3166_2_code', 'census_fips_code', 'place_id', 'date',\n",
      "       'retail_and_recreation_percent_change_from_baseline',\n",
      "       'grocery_and_pharmacy_percent_change_from_baseline',\n",
      "       'parks_percent_change_from_baseline',\n",
      "       'transit_stations_percent_change_from_baseline',\n",
      "       'workplaces_percent_change_from_baseline',\n",
      "       'residential_percent_change_from_baseline', 'week', 'reporting area',\n",
      "       'current mmwr year', 'label', 'current week', 'current week, flag',\n",
      "       'previous 52 week max', 'previous 52 weeks max, flag',\n",
      "       'cumulative ytd current mmwr year',\n",
      "       'cumulative ytd current mmwr year, flag',\n",
      "       'cumulative ytd previous mmwr year',\n",
      "       'cumulative ytd previous mmwr year, flag', 'location1', 'location2',\n",
      "       'sort_order', 'geocode'],\n",
      "      dtype='object')\n"
     ]
    }
   ],
   "source": [
    "print(df_final.columns)"
   ]
  },
  {
   "cell_type": "code",
   "execution_count": 12,
   "id": "d27810f2",
   "metadata": {},
   "outputs": [],
   "source": [
    "df_final['riesgo'] = df_final.apply(\n",
    "    lambda row: 1 if (\n",
    "        (row['current week'] > 5) and\n",
    "        (row['retail_and_recreation_percent_change_from_baseline'] > 8 or \n",
    "         row['transit_stations_percent_change_from_baseline'] > 8)\n",
    "    ) else 0,\n",
    "    axis=1\n",
    ")\n"
   ]
  },
  {
   "cell_type": "code",
   "execution_count": 13,
   "id": "96de05bb",
   "metadata": {},
   "outputs": [
    {
     "name": "stdout",
     "output_type": "stream",
     "text": [
      "Series([], Name: count, dtype: int64)\n"
     ]
    }
   ],
   "source": [
    "print(df_final['riesgo'].value_counts())"
   ]
  },
  {
   "cell_type": "code",
   "execution_count": 14,
   "id": "b7c632a4",
   "metadata": {},
   "outputs": [],
   "source": [
    "df_final['riesgo'] = df_final.apply(\n",
    "    lambda row: 1 if (\n",
    "        (row['current week'] > 5) and\n",
    "        (row['retail_and_recreation_percent_change_from_baseline'] > 8 or \n",
    "         row['transit_stations_percent_change_from_baseline'] > 8)\n",
    "    ) else 0,\n",
    "    axis=1\n",
    ")"
   ]
  },
  {
   "cell_type": "markdown",
   "id": "78f0fa18",
   "metadata": {},
   "source": [
    "5. Visualización exploratoria"
   ]
  },
  {
   "cell_type": "code",
   "execution_count": 15,
   "id": "028ccbd3",
   "metadata": {},
   "outputs": [
    {
     "data": {
      "image/png": "[encoded data removed]",
      "text/plain": [
       "<Figure size 1200x600 with 1 Axes>"
      ]
     },
     "metadata": {},
     "output_type": "display_data"
    }
   ],
   "source": [
    "import matplotlib.pyplot as plt\n",
    "\n",
    "plt.figure(figsize=(12,6))\n",
    "plt.plot(df_final['week'], df_final['current week'], marker='o', label='Positividad Viral (current week)')\n",
    "plt.axhline(5, color='red', linestyle='--', label='Umbral riesgo 5%')\n",
    "plt.title('Evolución de Positividad Viral por Semana')\n",
    "plt.xlabel('Semana')\n",
    "plt.ylabel('% Positividad Viral')\n",
    "plt.legend()\n",
    "plt.grid(True)\n",
    "plt.show()\n"
   ]
  },
  {
   "cell_type": "code",
   "execution_count": 16,
   "id": "ec7ce33a",
   "metadata": {},
   "outputs": [
    {
     "ename": "NameError",
     "evalue": "name 'movilidad' is not defined",
     "output_type": "error",
     "traceback": [
      "\u001b[31m---------------------------------------------------------------------------\u001b[39m",
      "\u001b[31mNameError\u001b[39m                                 Traceback (most recent call last)",
      "\u001b[36mCell\u001b[39m\u001b[36m \u001b[39m\u001b[32mIn[16]\u001b[39m\u001b[32m, line 1\u001b[39m\n\u001b[32m----> \u001b[39m\u001b[32m1\u001b[39m \u001b[38;5;28mprint\u001b[39m(\u001b[43mmovilidad\u001b[49m.isna().all())\n\u001b[32m      2\u001b[39m movilidad = movilidad.dropna(axis=\u001b[32m1\u001b[39m, how=\u001b[33m'\u001b[39m\u001b[33mall\u001b[39m\u001b[33m'\u001b[39m)  \u001b[38;5;66;03m# elimina columnas vacías\u001b[39;00m\n\u001b[32m      3\u001b[39m movilidad = movilidad.dropna(axis=\u001b[32m0\u001b[39m, how=\u001b[33m'\u001b[39m\u001b[33mall\u001b[39m\u001b[33m'\u001b[39m)  \u001b[38;5;66;03m# elimina filas vacías\u001b[39;00m\n",
      "\u001b[31mNameError\u001b[39m: name 'movilidad' is not defined"
     ]
    }
   ],
   "source": [
    "print(movilidad.isna().all())\n",
    "movilidad = movilidad.dropna(axis=1, how='all')  # elimina columnas vacías\n",
    "movilidad = movilidad.dropna(axis=0, how='all')  # elimina filas vacías"
   ]
  },
  {
   "cell_type": "code",
   "execution_count": null,
   "id": "aff2fb05",
   "metadata": {},
   "outputs": [
    {
     "name": "stdout",
     "output_type": "stream",
     "text": [
      "                                                    Promedio\n",
      "retail_and_recreation_percent_change_from_baseline       NaN\n",
      "grocery_and_pharmacy_percent_change_from_baseline        NaN\n",
      "parks_percent_change_from_baseline                       NaN\n",
      "transit_stations_percent_change_from_baseline            NaN\n",
      "workplaces_percent_change_from_baseline                  NaN\n",
      "residential_percent_change_from_baseline                 NaN\n"
     ]
    }
   ],
   "source": [
    "print(promedios)\n"
   ]
  },
  {
   "cell_type": "code",
   "execution_count": null,
   "id": "eced7495",
   "metadata": {},
   "outputs": [
    {
     "name": "stdout",
     "output_type": "stream",
     "text": [
      "df_final head:\n",
      "    retail_and_recreation_percent_change_from_baseline  \\\n",
      "0                                                NaN    \n",
      "1                                                NaN    \n",
      "2                                                NaN    \n",
      "\n",
      "   grocery_and_pharmacy_percent_change_from_baseline  \\\n",
      "0                                                NaN   \n",
      "1                                                NaN   \n",
      "2                                                NaN   \n",
      "\n",
      "   parks_percent_change_from_baseline  \\\n",
      "0                                 NaN   \n",
      "1                                 NaN   \n",
      "2                                 NaN   \n",
      "\n",
      "   transit_stations_percent_change_from_baseline  \\\n",
      "0                                            NaN   \n",
      "1                                            NaN   \n",
      "2                                            NaN   \n",
      "\n",
      "   workplaces_percent_change_from_baseline  \\\n",
      "0                                      NaN   \n",
      "1                                      NaN   \n",
      "2                                      NaN   \n",
      "\n",
      "   residential_percent_change_from_baseline  \n",
      "0                                       NaN  \n",
      "1                                       NaN  \n",
      "2                                       NaN  \n",
      "\n",
      "Missing values in relevant columns:\n",
      " retail_and_recreation_percent_change_from_baseline    3\n",
      "grocery_and_pharmacy_percent_change_from_baseline     3\n",
      "parks_percent_change_from_baseline                    3\n",
      "transit_stations_percent_change_from_baseline         3\n",
      "workplaces_percent_change_from_baseline               3\n",
      "residential_percent_change_from_baseline              3\n",
      "dtype: int64\n"
     ]
    }
   ],
   "source": [
    "import pandas as pd\n",
    "import seaborn as sns\n",
    "import matplotlib.pyplot as plt\n",
    "\n",
    "# Suponiendo que df_final ya está cargado\n",
    "# A modo de demostración, creamos un ejemplo de df_final que causa el error\n",
    "data = {\n",
    "    'retail_and_recreation_percent_change_from_baseline': [float('NaN'), float('NaN'), float('NaN')],\n",
    "    'grocery_and_pharmacy_percent_change_from_baseline': [float('NaN'), float('NaN'), float('NaN')],\n",
    "    'parks_percent_change_from_baseline': [float('NaN'), float('NaN'), float('NaN')],\n",
    "    'transit_stations_percent_change_from_baseline': [float('NaN'), float('NaN'), float('NaN')],\n",
    "    'workplaces_percent_change_from_baseline': [float('NaN'), float('NaN'), float('NaN')],\n",
    "    'residential_percent_change_from_baseline': [float('NaN'), float('NaN'), float('NaN')]\n",
    "}\n",
    "df_final = pd.DataFrame(data)\n",
    "\n",
    "print(\"df_final head:\\n\", df_final.head())\n",
    "print(\"\\nMissing values in relevant columns:\\n\", df_final[\n",
    "    ['retail_and_recreation_percent_change_from_baseline',\n",
    "     'grocery_and_pharmacy_percent_change_from_baseline',\n",
    "     'parks_percent_change_from_baseline',\n",
    "     'transit_stations_percent_change_from_baseline',\n",
    "     'workplaces_percent_change_from_baseline',\n",
    "     'residential_percent_change_from_baseline']\n",
    "].isnull().sum())"
   ]
  },
  {
   "cell_type": "code",
   "execution_count": null,
   "id": "a1870328",
   "metadata": {},
   "outputs": [],
   "source": [
    "for col in [\n",
    "    'retail_and_recreation_percent_change_from_baseline',\n",
    "    'grocery_and_pharmacy_percent_change_from_baseline',\n",
    "    'parks_percent_change_from_baseline',\n",
    "    'transit_stations_percent_change_from_baseline',\n",
    "    'workplaces_percent_change_from_baseline',\n",
    "    'residential_percent_change_from_baseline'\n",
    "]:\n",
    "    df_final[col] = pd.to_numeric(df_final[col], errors='coerce') # 'coerce' will turn non-convertible values into NaN"
   ]
  },
  {
   "cell_type": "code",
   "execution_count": null,
   "id": "a4b66923",
   "metadata": {},
   "outputs": [
    {
     "name": "stdout",
     "output_type": "stream",
     "text": [
      "\n",
      "Promedios calculated:\n",
      "                                                     Promedio\n",
      "retail_and_recreation_percent_change_from_baseline       8.8\n",
      "grocery_and_pharmacy_percent_change_from_baseline       16.0\n",
      "parks_percent_change_from_baseline                      22.2\n",
      "transit_stations_percent_change_from_baseline           -6.0\n",
      "workplaces_percent_change_from_baseline                -11.0\n",
      "residential_percent_change_from_baseline                 3.0\n"
     ]
    },
    {
     "data": {
      "image/png": "[encoded data removed]",
      "text/plain": [
       "<Figure size 800x400 with 2 Axes>"
      ]
     },
     "metadata": {},
     "output_type": "display_data"
    }
   ],
   "source": [
    "import seaborn as sns\n",
    "import matplotlib.pyplot as plt\n",
    "\n",
    "# Extraer las columnas relevantes\n",
    "movilidad = df_final[[\n",
    "    'retail_and_recreation_percent_change_from_baseline',\n",
    "    'grocery_and_pharmacy_percent_change_from_baseline',\n",
    "    'parks_percent_change_from_baseline',\n",
    "    'transit_stations_percent_change_from_baseline',\n",
    "    'workplaces_percent_change_from_baseline',\n",
    "    'residential_percent_change_from_baseline'\n",
    "]]\n",
    "\n",
    "# Calcular promedios (ignorando NaN)\n",
    "promedios = movilidad.mean(skipna=True).to_frame(name='Promedio')\n",
    "\n",
    "print(\"\\nPromedios calculated:\\n\", promedios)\n",
    "\n",
    "# Heatmap de promedios\n",
    "plt.figure(figsize=(8, 4))\n",
    "sns.heatmap(promedios, annot=True, cmap='coolwarm', cbar=True, fmt=\".1f\")\n",
    "plt.title('Promedio de Movilidad por Categoría')\n",
    "plt.ylabel('Categorías')\n",
    "plt.show()"
   ]
  },
  {
   "cell_type": "markdown",
   "id": "e6e23d64",
   "metadata": {},
   "source": [
    "6. Modelado predictivo"
   ]
  },
  {
   "cell_type": "code",
   "execution_count": null,
   "id": "d74a20ee",
   "metadata": {},
   "outputs": [
    {
     "name": "stdout",
     "output_type": "stream",
     "text": [
      "X_scaled shape: (5, 6)\n",
      "First 5 rows of X_scaled:\n",
      " [[ 0.51832106 -0.70710678 -1.27872403  0.70710678  0.70710678  0.        ]\n",
      " [-1.64135001  1.41421356  1.62746694 -1.41421356 -0.70710678 -0.70710678]\n",
      " [ 1.38218948 -1.41421356 -0.11624764  0.          1.41421356  0.70710678]\n",
      " [-0.34554737  0.          0.46499055 -0.70710678  0.          1.41421356]\n",
      " [ 0.08638684  0.70710678 -0.69748583  1.41421356 -1.41421356 -1.41421356]]\n"
     ]
    }
   ],
   "source": [
    "from sklearn.preprocessing import StandardScaler\n",
    "import pandas as pd # Asegúrate de que los pandas se importan si no lo están ya\n",
    "\n",
    "X = df_final[[\n",
    "    'retail_and_recreation_percent_change_from_baseline',\n",
    "    'grocery_and_pharmacy_percent_change_from_baseline',\n",
    "    'parks_percent_change_from_baseline',\n",
    "    'transit_stations_percent_change_from_baseline',\n",
    "    'workplaces_percent_change_from_baseline',\n",
    "    'residential_percent_change_from_baseline'\n",
    "]]\n",
    "\n",
    "\"https://raw.githubusercontent.com/doews/alertasriesgoenfermedadesrespiratoria/main/2022_US_Region_Mobility_Report.csv\n",
    "scaler = StandardScaler()\n",
    "X_scaled = scaler.fit_transform(X)\n",
    "\n",
    "print(\"X_scaled shape:\", X_scaled.shape)\n",
    "print(\"First 5 rows of X_scaled:\\n\", X_scaled[:5])"
   ]
  },
  {
   "cell_type": "markdown",
   "id": "78ad88db",
   "metadata": {},
   "source": [
    "Entrena modelo de red neuronal (MLP):"
   ]
  },
  {
   "cell_type": "code",
   "execution_count": null,
   "id": "e0a90f77",
   "metadata": {},
   "outputs": [
    {
     "data": {
      "text/plain": [
       "Index(['retail_and_recreation_percent_change_from_baseline',\n",
       "       'grocery_and_pharmacy_percent_change_from_baseline',\n",
       "       'parks_percent_change_from_baseline',\n",
       "       'transit_stations_percent_change_from_baseline',\n",
       "       'workplaces_percent_change_from_baseline',\n",
       "       'residential_percent_change_from_baseline', 'rsv', 'covid', 'influenza',\n",
       "       'riesgo'],\n",
       "      dtype='object')"
      ]
     },
     "execution_count": 73,
     "metadata": {},
     "output_type": "execute_result"
    }
   ],
   "source": [
    "df_final.columns"
   ]
  },
  {
   "cell_type": "code",
   "execution_count": 17,
   "id": "b6d7de13",
   "metadata": {},
   "outputs": [
    {
     "ename": "SyntaxError",
     "evalue": "unmatched ']' (2649847323.py, line 25)",
     "output_type": "error",
     "traceback": [
      "  \u001b[36mCell\u001b[39m\u001b[36m \u001b[39m\u001b[32mIn[17]\u001b[39m\u001b[32m, line 25\u001b[39m\n\u001b[31m    \u001b[39m\u001b[31m]]\u001b[39m\n     ^\n\u001b[31mSyntaxError\u001b[39m\u001b[31m:\u001b[39m unmatched ']'\n"
     ]
    }
   ],
   "source": [
    "import pandas as pd\n",
    "from sklearn.preprocessing import StandardScaler\n",
    "from sklearn.model_selection import train_test_split\n",
    "from sklearn.neural_network import MLPClassifier\n",
    "from sklearn.metrics import classification_report, confusion_matrix \n",
    "\n",
    "# Define 'X' y 'y' con todas las columnas necesarias\n",
    "X = df_final[\n",
    "# Usar solo las columnas que realmente existen\n",
    "# Usar solo las columnas que realmente existen\n",
    "columns_to_use = [\n",
    "    'retail_and_recreation_percent_change_from_baseline',\n",
    "    'grocery_and_pharmacy_percent_change_from_baseline',\n",
    "    'parks_percent_change_from_baseline',\n",
    "    'transit_stations_percent_change_from_baseline',\n",
    "    'workplaces_percent_change_from_baseline',\n",
    "    'residential_percent_change_from_baseline',\n",
    "    'rsv',\n",
    "    'covid',\n",
    "    'influenza'\n",
    "]\n",
    "existing_columns = [col for col in columns_to_use if col in df_final.columns]\n",
    "X = df_final[existing_columns]\n",
    "\n",
    "]]\n",
    "y = df_final['riesgo']\n",
    "\n",
    "\n",
    "# Escalar las características\n",
    "scaler = StandardScaler()\n",
    "X_scaled = scaler.fit_transform(X)\n",
    "\n",
    "# Dividir los datos\n",
    "X_train, X_test, y_train, y_test = train_test_split(X_scaled, y, test_size=0.3, random_state=42)\n",
    "\n",
    "# Inicializar y entrenar el clasificador MLP\n",
    "mlp = MLPClassifier(hidden_layer_sizes=(10, 5), max_iter=1000, random_state=42)\n",
    "mlp.fit(X_train, y_train)\n",
    "\n",
    "# Hacer predicciones\n",
    "y_pred = mlp.predict(X_test)\n",
    "\n",
    "# Ahora puedes usar las métricas importadas:\n",
    "print(\"Informe de Clasificación:\")\n",
    "print(classification_report(y_test, y_pred))\n",
    "\n",
    "print(\"\\nMatriz de Confusión:\")\n",
    "print(confusion_matrix(y_test, y_pred))"
   ]
  },
  {
   "cell_type": "code",
   "execution_count": null,
   "id": "0170e88b",
   "metadata": {},
   "outputs": [
    {
     "ename": "SyntaxError",
     "evalue": "invalid syntax (1373123060.py, line 5)",
     "output_type": "error",
     "traceback": [
      "  \u001b[36mCell\u001b[39m\u001b[36m \u001b[39m\u001b[32mIn[18]\u001b[39m\u001b[32m, line 5\u001b[39m\n\u001b[31m    \u001b[39m\u001b[31mfrom sklearn.metrics import\u001b[39m\n                                ^\n\u001b[31mSyntaxError\u001b[39m\u001b[31m:\u001b[39m invalid syntax\n"
     ]
    }
   ],
   "source": [
    "import pandas as pd\n",
    "from sklearn.preprocessing import StandardScaler\n",
    "from sklearn.model_selection import train_test_split\n",
    "from sklearn.neural_network import MLPClassifier\n",
    "from sklearn.metrics import \n",
    "\n",
    "#informe_de_clasificación, matriz_de_confusión\n",
    "\n",
    "# Define 'X' y 'y' con todas las columnas necesarias\n",
    "X = df_final[[\n",
    "    'retail_and_recreation_percent_change_from_baseline',\n",
    "    'grocery_and_pharmacy_percent_change_from_baseline',\n",
    "    'parks_percent_change_from_baseline',\n",
    "    'transit_stations_percent_change_from_baseline',\n",
    "    'workplaces_percent_change_from_baseline',\n",
    "    'residential_percent_change_from_baseline',\n",
    "    'rsv',\n",
    "    'covid',\n",
    "    'influenza'\n",
    "]]\n",
    "y = df_final['riesgo']\n",
    "\n",
    "# Escalar las características\n",
    "scaler = StandardScaler()\n",
    "X_scaled = scaler.fit_transform(X)\n",
    "\n",
    "# Dividir los datos\n",
    "X_train, X_test, y_train, y_test = train_test_split(X_scaled, y, test_size=0.3, random_state=42)\n",
    "\n",
    "# Inicializar y entrenar el clasificador MLP\n",
    "mlp = MLPClassifier(hidden_layer_sizes=(10, 5), max_iter=1000, random_state=42)\n",
    "mlp.fit(X_train, y_train)\n",
    "\n",
    "# Hacer predicciones\n",
    "y_pred = mlp.predict(X_test)"
   ]
  },
  {
   "cell_type": "markdown",
   "id": "6e9b1d2f",
   "metadata": {},
   "source": [
    "Graficos matriz de confución en base a (MPL)"
   ]
  },
  {
   "cell_type": "code",
   "execution_count": null,
   "id": "2eaee45c",
   "metadata": {},
   "outputs": [
    {
     "name": "stdout",
     "output_type": "stream",
     "text": [
      "--- Classification Report ---\n",
      "              precision    recall  f1-score   support\n",
      "\n",
      "           0       1.00      1.00      1.00         1\n",
      "           1       1.00      1.00      1.00         2\n",
      "\n",
      "    accuracy                           1.00         3\n",
      "   macro avg       1.00      1.00      1.00         3\n",
      "weighted avg       1.00      1.00      1.00         3\n",
      "\n",
      "\n",
      "--- Confusion Matrix ---\n",
      "[[1 0]\n",
      " [0 2]]\n",
      "\n",
      "--- Generating Visualizations ---\n"
     ]
    },
    {
     "data": {
      "image/png": "[encoded data removed]",
      "text/plain": [
       "<Figure size 1000x600 with 1 Axes>"
      ]
     },
     "metadata": {},
     "output_type": "display_data"
    },
    {
     "data": {
      "image/png": "[encoded data removed]",
      "text/plain": [
       "<Figure size 800x600 with 1 Axes>"
      ]
     },
     "metadata": {},
     "output_type": "display_data"
    },
    {
     "name": "stdout",
     "output_type": "stream",
     "text": [
      "\n",
      "Sin Alerta para la semana: 2024-W02\n"
     ]
    },
    {
     "name": "stderr",
     "output_type": "stream",
     "text": [
      "C:\\Users\\fpere\\AppData\\Local\\Packages\\PythonSoftwareFoundation.Python.3.11_qbz5n2kfra8p0\\LocalCache\\local-packages\\Python311\\site-packages\\sklearn\\utils\\validation.py:2739: UserWarning: X does not have valid feature names, but StandardScaler was fitted with feature names\n",
      "  warnings.warn(\n"
     ]
    }
   ],
   "source": [
    "from sklearn.preprocessing import StandardScaler\n",
    "from sklearn.model_selection import train_test_split\n",
    "from sklearn.neural_network import MLPClassifier\n",
    "from sklearn.metrics import classification_report, confusion_matrix\n",
    "import pandas as pd\n",
    "import matplotlib.pyplot as plt\n",
    "import seaborn as sns\n",
    "\n",
    "\n",
    "# 1. Define X and y\n",
    "X = df_final[[\n",
    "    'retail_and_recreation_percent_change_from_baseline',\n",
    "    'grocery_and_pharmacy_percent_change_from_baseline',\n",
    "    'parks_percent_change_from_baseline',\n",
    "    'transit_stations_percent_change_from_baseline',\n",
    "    'workplaces_percent_change_from_baseline',\n",
    "    'residential_percent_change_from_baseline',\n",
    "    'rsv', 'covid', 'influenza'\n",
    "]]\n",
    "y = df_final['riesgo']\n",
    "\n",
    "# 2. Características de escala\n",
    "scaler = StandardScaler()\n",
    "X_scaled = scaler.fit_transform(X)\n",
    "\n",
    "# 3. Dividir datos\n",
    "X_train, X_test, y_train, y_test = train_test_split(X_scaled, y, test_size=0.3, random_state=42)\n",
    "\n",
    "# 4. Entrenar el clasificador MLP\n",
    "mlp = MLPClassifier(hidden_layer_sizes=(10, 5), max_iter=1000, random_state=42, verbose=False) # verbose=False to avoid printing loss during training\n",
    "mlp.fit(X_train, y_train)\n",
    "\n",
    "# 5. Predecir\n",
    "y_pred = mlp.predict(X_test)\n",
    "\n",
    "# 6. Print Informe de clasificación & Matriz de confusión\n",
    "print(\"--- Informe de clasificación ---\")\n",
    "print(classification_report(y_test, y_pred))\n",
    "print(\"\\n--- Matriz de confusión ---\")\n",
    "print(confusion_matrix(y_test, y_pred))\n",
    "\n",
    "# 7. Generate Visualizations\n",
    "\n",
    "print(\"\\n--- Generando visualizaciones ---\")\n",
    "\n",
    "# Plot 1: Loss Curve\n",
    "if mlp.loss_curve_ is not None:\n",
    "    plt.figure(figsize=(10, 6))\n",
    "    plt.plot(mlp.loss_curve_)\n",
    "    plt.title('Curva de Pérdida del Modelo (MLPClassifier)')\n",
    "    plt.xlabel('Número de Iteraciones (Épocas)')\n",
    "    plt.ylabel('Pérdida')\n",
    "    plt.grid(True)\n",
    "    plt.show()\n",
    "else:\n",
    "    print(\"La curva de pérdida no está disponible. Asegúrate de que el modelo haya sido entrenado.\")\n",
    "\n",
    "\n",
    "# Plot 2: Matriz de confusión Heatmap\n",
    "cm = confusion_matrix(y_test, y_pred)\n",
    "plt.figure(figsize=(8, 6))\n",
    "sns.heatmap(cm, annot=True, fmt='d', cmap='Blues', cbar=False,\n",
    "            xticklabels=['Sin Alerta (Predicción)', 'Riesgo Alto (Predicción)'],\n",
    "            yticklabels=['Sin Alerta (Real)', 'Riesgo Alto (Real)'])\n",
    "plt.title('Matriz de Confusión')\n",
    "plt.xlabel('Etiqueta Predicha')\n",
    "plt.ylabel('Etiqueta Verdadera')\n",
    "plt.show()\n",
    "\n",
    "# También puedes agregar la predicción 'riesgo' a tu df_final si es necesario para generar informes.\n",
    "# Nota: Este ejemplo solo predice la última semana, pero es posible que quieras predecir todas las semanas o solo el conjunto de prueba.\n",
    "\n",
    "# Example for predicting the last week's risk and printing the alert\n",
    "\n",
    "ultima_semana_features = X.iloc[-1:].values\n",
    "ultima_semana_features_scaled = scaler.transform(ultima_semana_features)\n",
    "riesgo_predicho_ultima_semana = mlp.predict(ultima_semana_features_scaled)[0]\n",
    "ultima_semana_id = df_final.iloc[-1]['semana']\n",
    "\n",
    "if riesgo_predicho_ultima_semana == 1:\n",
    "    print(f\"\\nRiesgo Alto para la semana: {ultima_semana_id}\")\n",
    "else:\n",
    "    print(f\"\\nSin Alerta para la semana: {ultima_semana_id}\")\n",
    "\n",
    "# Finalmente, guardar en CSV (esto guardará el df_final con todas las columnas, incluyendo 'riesgo' y 'semana', \n",
    "# si se agregaron correctamente inicialmente o se calcularon y adjuntaron)\n",
    "df_final.to_csv('alertas_generadas.csv', index=False)"
   ]
  },
  {
   "cell_type": "code",
   "execution_count": null,
   "id": "e6e301c0",
   "metadata": {},
   "outputs": [],
   "source": []
  },
  {
   "cell_type": "markdown",
   "id": "3ab79604",
   "metadata": {},
   "source": [
    " 7. Generación de alerta final"
   ]
  },
  {
   "cell_type": "code",
   "execution_count": null,
   "id": "2bd4a6f2",
   "metadata": {},
   "outputs": [],
   "source": []
  },
  {
   "cell_type": "code",
   "execution_count": null,
   "id": "5ba65e6f",
   "metadata": {},
   "outputs": [
    {
     "name": "stdout",
     "output_type": "stream",
     "text": [
      "Sin Alerta para la semana: 2023-W52\n"
     ]
    }
   ],
   "source": [
    "import pandas as pd\n",
    "\n",
    "# Recreación de df_final solo con datos de movilidad para demostración\n",
    "# En el código real, este sería el df_final cargado\n",
    "\n",
    "# --- IMPORTANTE: Agregar las columnas \"riesgo\" y \"semana\" ---\n",
    "# Este es un ejemplo ficticio. Deberá rellenarlos con sus datos reales.\n",
    "df_final['riesgo'] = [0, 1, 0, 1, 0] # Example risk values (0 or 1)\n",
    "df_final['semana'] = ['2023-W48', '2023-W49', '2023-W50', '2023-W51', '2023-W52'] # Example week identifiers\n",
    "# ---------------------------------------------------\n",
    "\n",
    "ultima_semana = df_final.iloc[-1]\n",
    "\n",
    "if ultima_semana['riesgo'] == 1:\n",
    "    print(\"Riesgo Alto para la semana:\", ultima_semana['semana'])\n",
    "else:\n",
    "    print(\"Sin Alerta para la semana:\", ultima_semana['semana'])"
   ]
  },
  {
   "cell_type": "markdown",
   "id": "c865079b",
   "metadata": {},
   "source": [
    "8. Exportación y presentación"
   ]
  },
  {
   "cell_type": "code",
   "execution_count": null,
   "id": "1fff0b63",
   "metadata": {},
   "outputs": [],
   "source": [
    "df_final.to_csv('alertas_generadas.csv', index=False)"
   ]
  }
 ],
 "metadata": {
  "kernelspec": {
   "display_name": "Python 3",
   "language": "python",
   "name": "python3"
  },
  "language_info": {
   "codemirror_mode": {
    "name": "ipython",
    "version": 3
   },
   "file_extension": ".py",
   "mimetype": "text/x-python",
   "name": "python",
   "nbconvert_exporter": "python",
   "pygments_lexer": "ipython3",
   "version": "3.11.9"
  }
 },
 "nbformat": 4,
 "nbformat_minor": 5
}
